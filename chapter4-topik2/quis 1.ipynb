{
 "cells": [
  {
   "cell_type": "code",
   "execution_count": 1,
   "metadata": {
    "id": "rB2kEWVwXfWo"
   },
   "outputs": [],
   "source": [
    "import sqlite3"
   ]
  },
  {
   "cell_type": "markdown",
   "metadata": {
    "id": "8aZKSgcyz37J"
   },
   "source": [
    "buatlah db dengan nama toko_andalan\n"
   ]
  },
  {
   "cell_type": "code",
   "execution_count": 2,
   "metadata": {
    "id": "noa95myR0vD1"
   },
   "outputs": [
    {
     "name": "stdout",
     "output_type": "stream",
     "text": [
      "Opened database successfully\n"
     ]
    }
   ],
   "source": [
    "conn = sqlite3.connect('toko_andalan.db')\n",
    "print(\"Opened database successfully\")"
   ]
  },
  {
   "cell_type": "code",
   "execution_count": null,
   "metadata": {
    "id": "HoQHFK2Z1MZN"
   },
   "outputs": [],
   "source": []
  },
  {
   "cell_type": "code",
   "execution_count": null,
   "metadata": {
    "id": "qXTimmLH1oFA"
   },
   "outputs": [],
   "source": []
  },
  {
   "cell_type": "markdown",
   "metadata": {},
   "source": [
    "buatlah tabel produk dan sales\n",
    "- produk :\n",
    "  1. id INT primary key\n",
    "  2. nama_product varchar\n",
    "  3. harga INT\n",
    "\n",
    "- Sales :\n",
    "  1. order_id INT primary key\n",
    "  2. product_id INT Foreign key tabel produk\n",
    "  3. jumlah INT "
   ]
  },
  {
   "cell_type": "code",
   "execution_count": null,
   "metadata": {},
   "outputs": [],
   "source": [
    "conn.execute('''CREATE TABLE users (username varchar(255), email varchar(255));''')\n",
    "print(\"Table created successfully\")\n",
    "\n",
    "conn.close()"
   ]
  },
  {
   "cell_type": "raw",
   "metadata": {},
   "source": [
    "Isilah dr 2 tabel diatas dengan\n",
    "- produk :\n",
    "  nama_product, harga\n",
    "  sepatu, 5000\n",
    "  kemeja, 4000\n",
    "  sendal, 1000\n",
    "  kaos kaki, 500\n",
    "  topi, 1000\n",
    "\n",
    "- sales:\n",
    "  product_id, jumlah\n",
    "  1, 20\n",
    "  1, 15\n",
    "  4, 15\n",
    "  3, 5\n",
    "  2, 9\n",
    "  1, 7\n",
    "  5, 36"
   ]
  },
  {
   "cell_type": "code",
   "execution_count": null,
   "metadata": {},
   "outputs": [],
   "source": []
  },
  {
   "cell_type": "markdown",
   "metadata": {
    "id": "Xnx2dkDv1Y19"
   },
   "source": [
    "update harga kemeja menjadi 5000"
   ]
  },
  {
   "cell_type": "code",
   "execution_count": null,
   "metadata": {},
   "outputs": [],
   "source": []
  },
  {
   "cell_type": "markdown",
   "metadata": {},
   "source": [
    "join kedua tabel dengan iner join tampilkan kolom nama_produk(produk), harga(produk), jumlah (order)"
   ]
  },
  {
   "cell_type": "code",
   "execution_count": null,
   "metadata": {},
   "outputs": [],
   "source": []
  }
 ],
 "metadata": {
  "colab": {
   "authorship_tag": "ABX9TyO5ceHwmH2G9gfMMhvnunES",
   "provenance": []
  },
  "kernelspec": {
   "display_name": "Python 3 (ipykernel)",
   "language": "python",
   "name": "python3"
  },
  "language_info": {
   "codemirror_mode": {
    "name": "ipython",
    "version": 3
   },
   "file_extension": ".py",
   "mimetype": "text/x-python",
   "name": "python",
   "nbconvert_exporter": "python",
   "pygments_lexer": "ipython3",
   "version": "3.10.12"
  }
 },
 "nbformat": 4,
 "nbformat_minor": 4
}
