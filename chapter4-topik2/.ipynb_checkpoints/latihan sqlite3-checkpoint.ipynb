{
 "cells": [
  {
   "cell_type": "code",
   "execution_count": 2,
   "id": "fd33e4e5-49bb-4645-9c58-bcd8028bf44b",
   "metadata": {},
   "outputs": [],
   "source": [
    "import sqlite3"
   ]
  },
  {
   "cell_type": "code",
   "execution_count": 3,
   "id": "23a646b0-acb0-4c26-a7f4-5ea9d75f6b68",
   "metadata": {},
   "outputs": [
    {
     "name": "stdout",
     "output_type": "stream",
     "text": [
      "Opened database successfully\n"
     ]
    }
   ],
   "source": [
    "#create db dan mengconectkan ke db\n",
    "conn = sqlite3.connect('binar_data_science_new.db')\n",
    "\n",
    "print(\"Opened database successfully\")"
   ]
  },
  {
   "cell_type": "raw",
   "id": "17e3fbf2-9bac-4137-8b65-f20ac48203eb",
   "metadata": {},
   "source": [
    "CREATE TABLE users (username varchar(255), email varchar(255));"
   ]
  },
  {
   "cell_type": "code",
   "execution_count": 4,
   "id": "9684cfd3-2206-427d-a5c8-fec86ec179e7",
   "metadata": {},
   "outputs": [
    {
     "name": "stdout",
     "output_type": "stream",
     "text": [
      "Table created successfully\n"
     ]
    }
   ],
   "source": [
    "#membuat table dan kolom\n",
    "# conn = sqlite3.connect('data/binar_data_science_new.db')\n",
    "# print(\"Opened database successfully\")\n",
    "\n",
    "conn.execute('''CREATE TABLE users (username varchar(255), email varchar(255));''')\n",
    "print(\"Table created successfully\")\n",
    "\n",
    "conn.close()"
   ]
  },
  {
   "cell_type": "raw",
   "id": "12165546-2499-478d-a28a-e9d37c7a752b",
   "metadata": {},
   "source": [
    "INSERT INTO <users> <(username, email)> VALUES <('binaria', 'binaria@binar.com')>\n",
    "\n",
    "INSERT INTO <users> VALUES <('bintang', 'bintang@binar.com')>"
   ]
  },
  {
   "cell_type": "code",
   "execution_count": 21,
   "id": "df7b7a34-795e-4f31-8f75-0e2d5d0ecd23",
   "metadata": {},
   "outputs": [
    {
     "name": "stdout",
     "output_type": "stream",
     "text": [
      "Opened database successfully\n",
      "Records created successfully\n"
     ]
    }
   ],
   "source": [
    "#mengisi table\n",
    "conn = sqlite3.connect('data/binar_data_science_new.db')\n",
    "print(\"Opened database successfully\")\n",
    "\n",
    "conn.execute(\"INSERT INTO users (username, email) VALUES ('binaria', 'binaria@binar.com')\")\n",
    "conn.execute(\"INSERT INTO users VALUES ('bintang', 'bintang@binar.com')\")\n",
    "\n",
    "conn.commit()\n",
    "print(\"Records created successfully\")\n",
    "conn.close()"
   ]
  },
  {
   "cell_type": "raw",
   "id": "c91cdfab-9ee8-422f-bbff-723e84c4553c",
   "metadata": {},
   "source": [
    "SELECT <*> FROM <users>"
   ]
  },
  {
   "cell_type": "code",
   "execution_count": 27,
   "id": "06e87f30-b45b-491b-8523-f57d7cdf5c0d",
   "metadata": {},
   "outputs": [
    {
     "name": "stdout",
     "output_type": "stream",
     "text": [
      "Opened database successfully\n",
      "\n",
      "List of Users:\n",
      "('binaria', 'binaria@binar.com')\n",
      "('bintang', 'bintang@binar.com')\n",
      "\n",
      "Operation done successfully\n"
     ]
    }
   ],
   "source": [
    "#memunculkan data\n",
    "conn = sqlite3.connect('data/binar_data_science_new.db')\n",
    "print(\"Opened database successfully\")\n",
    "print()\n",
    "\n",
    "print(\"List of Users:\")\n",
    "cursor = conn.execute(\"SELECT * FROM users;\")\n",
    "# print (cursor)\n",
    "for row in cursor:\n",
    "    print(row)\n",
    "\n",
    "print()\n",
    "print(\"Operation done successfully\")\n",
    "conn.close()"
   ]
  },
  {
   "cell_type": "raw",
   "id": "500885cb-08b4-414a-96e0-7626d49e5529",
   "metadata": {},
   "source": [
    "UPDATE users SET email = 'bintang1@binar.com' where username = 'bintang';"
   ]
  },
  {
   "cell_type": "code",
   "execution_count": 28,
   "id": "e7576cd8-fbfb-4241-88ca-9ed426a4347f",
   "metadata": {},
   "outputs": [
    {
     "name": "stdout",
     "output_type": "stream",
     "text": [
      "Opened database successfully\n",
      "\n",
      "List of Users:\n",
      "('binaria', 'binaria@binar.com')\n",
      "('bintang', 'bintang1@binar.com')\n",
      "\n",
      "Operation done successfully\n"
     ]
    }
   ],
   "source": [
    "#update data pada table\n",
    "conn = sqlite3.connect('data/binar_data_science_new.db')\n",
    "print(\"Opened database successfully\")\n",
    "print()\n",
    "\n",
    "conn.execute(\"UPDATE users SET email = 'bintang1@binar.com' where username = 'bintang';\")\n",
    "conn.commit()\n",
    "\n",
    "\n",
    "print(\"List of Users:\")\n",
    "cursor = conn.execute(\"SELECT * FROM users;\")\n",
    "for row in cursor:\n",
    "    print(row)\n",
    "\n",
    "print()\n",
    "print(\"Operation done successfully\")\n",
    "conn.close()"
   ]
  },
  {
   "cell_type": "code",
   "execution_count": 29,
   "id": "924d187d-ade1-40e9-8fd0-66179ef46b7d",
   "metadata": {},
   "outputs": [
    {
     "name": "stdout",
     "output_type": "stream",
     "text": [
      "Opened database successfully\n",
      "\n",
      "List of Users:\n",
      "('binaria', 'binaria@binar.com')\n",
      "\n",
      "Operation done successfully\n"
     ]
    }
   ],
   "source": [
    "#delete data\n",
    "conn = sqlite3.connect('data/binar_data_science_new.db')\n",
    "print(\"Opened database successfully\")\n",
    "print()\n",
    "\n",
    "conn.execute(\"DELETE FROM users where username = 'bintang';\")\n",
    "conn.commit()\n",
    "\n",
    "\n",
    "print(\"List of Users:\")\n",
    "cursor = conn.execute(\"SELECT * FROM users;\")\n",
    "for row in cursor:\n",
    "    print(row)\n",
    "\n",
    "print()\n",
    "print(\"Operation done successfully\")\n",
    "conn.close()"
   ]
  },
  {
   "cell_type": "code",
   "execution_count": 30,
   "id": "f5c73cdc-e173-4327-8016-a33746898d8d",
   "metadata": {},
   "outputs": [
    {
     "name": "stdout",
     "output_type": "stream",
     "text": [
      "Opened database successfully\n",
      "Table 'users' created successfully\n",
      "Insert to Table 'users' is successfully\n",
      "Table 'hobbies' created successfully\n",
      "Insert to Table 'hobbies' is successfully\n",
      "Records created successfully\n"
     ]
    }
   ],
   "source": [
    "conn = sqlite3.connect('data/binar_data_science_join_new.db')\n",
    "print(\"Opened database successfully\")\n",
    "\n",
    "conn.execute('''CREATE TABLE users (username varchar(255), email varchar(255));''')\n",
    "print(\"Table 'users' created successfully\")\n",
    "\n",
    "conn.execute(\"INSERT INTO users (username, email) VALUES ('binaria', 'binaria@binar.com')\")\n",
    "conn.execute(\"INSERT INTO users VALUES ('bintang', 'bintang@binar.com')\")\n",
    "print(\"Insert to Table 'users' is successfully\")\n",
    "\n",
    "#menerapkan foreign key\n",
    "conn.execute('''CREATE TABLE hobbies (name varchar(255), user_id INT, FOREIGN KEY (user_id) REFERENCES users(rowid));''')\n",
    "print(\"Table 'hobbies' created successfully\")\n",
    "\n",
    "conn.execute(\"INSERT INTO hobbies (name, user_id) VALUES ('football', 1);\")\n",
    "conn.execute(\"INSERT INTO hobbies (name, user_id) VALUES ('gaming', 2);\")\n",
    "conn.execute(\"INSERT INTO hobbies (name, user_id) VALUES ('traveling', 2);\")\n",
    "print(\"Insert to Table 'hobbies' is successfully\")\n",
    "\n",
    "conn.commit()\n",
    "print(\"Records created successfully\")\n",
    "conn.close()"
   ]
  },
  {
   "cell_type": "code",
   "execution_count": 31,
   "id": "9c8762af-bfcd-4fce-8a0a-f246c945b2c3",
   "metadata": {},
   "outputs": [
    {
     "name": "stdout",
     "output_type": "stream",
     "text": [
      "Opened database successfully\n",
      "\n",
      "List of Users:\n",
      "('binaria', 'binaria@binar.com')\n",
      "('bintang', 'bintang@binar.com')\n",
      "\n",
      "Operation done successfully\n"
     ]
    }
   ],
   "source": [
    "conn = sqlite3.connect('data/binar_data_science_join_new.db')\n",
    "print(\"Opened database successfully\")\n",
    "print()\n",
    "\n",
    "print(\"List of Users:\")\n",
    "cursor = conn.execute(\"SELECT * FROM users;\")\n",
    "for row in cursor:\n",
    "    print(row)\n",
    "\n",
    "print()\n",
    "print(\"Operation done successfully\")\n",
    "conn.close()"
   ]
  },
  {
   "cell_type": "code",
   "execution_count": 32,
   "id": "b68e02e2-ed2d-460b-9640-88b5ccfa9024",
   "metadata": {},
   "outputs": [
    {
     "name": "stdout",
     "output_type": "stream",
     "text": [
      "Opened database successfully\n",
      "\n",
      "List of Users:\n",
      "('football', 1)\n",
      "('gaming', 2)\n",
      "('traveling', 2)\n",
      "\n",
      "Operation done successfully\n"
     ]
    }
   ],
   "source": [
    "conn = sqlite3.connect('data/binar_data_science_join_new.db')\n",
    "print(\"Opened database successfully\")\n",
    "print()\n",
    "\n",
    "print(\"List of Users:\")\n",
    "cursor = conn.execute(\"SELECT * FROM hobbies;\")\n",
    "for row in cursor:\n",
    "    print(row)\n",
    "\n",
    "print()\n",
    "print(\"Operation done successfully\")\n",
    "conn.close()"
   ]
  },
  {
   "cell_type": "code",
   "execution_count": null,
   "id": "03483e92-5cf1-4b72-87cb-f0bb53023457",
   "metadata": {},
   "outputs": [],
   "source": [
    "'''\n",
    "SELECT *\n",
    "FROM users \n",
    "LEFT JOIN hobbies ON users.rowid = hobbies.user_id\n",
    "'''"
   ]
  },
  {
   "cell_type": "code",
   "execution_count": null,
   "id": "5b2bf0b9-33c2-4c47-8c77-6f022ea01a3f",
   "metadata": {},
   "outputs": [],
   "source": [
    "\"SELECT users.username, hobbies.name \\\n",
    "            FROM users LEFT JOIN hobbies ON users.rowid = hobbies.user_id\""
   ]
  },
  {
   "cell_type": "code",
   "execution_count": 34,
   "id": "205e0f8a-1877-4998-95a9-40af8b495e93",
   "metadata": {},
   "outputs": [
    {
     "name": "stdout",
     "output_type": "stream",
     "text": [
      "Opened database successfully\n",
      "\n",
      "List of Joined Data:\n",
      "('binaria', 'football')\n",
      "('bintang', 'gaming')\n",
      "('bintang', 'traveling')\n",
      "\n",
      "Operation done successfully\n"
     ]
    }
   ],
   "source": [
    "#join table\n",
    "conn = sqlite3.connect('data/binar_data_science_join_new.db')\n",
    "print(\"Opened database successfully\")\n",
    "print()\n",
    "\n",
    "print(\"List of Joined Data:\")\n",
    "cursor = conn.execute('''\n",
    "                SELECT users.username, hobbies.name\n",
    "                    FROM users \n",
    "                    LEFT JOIN hobbies ON users.rowid = hobbies.user_id\n",
    "                ''')\n",
    "for row in cursor:\n",
    "    print(row)\n",
    "\n",
    "print()\n",
    "print(\"Operation done successfully\")\n",
    "conn.close()"
   ]
  },
  {
   "cell_type": "code",
   "execution_count": 35,
   "id": "257b6c2a-39d4-42fd-8031-683f13b9b400",
   "metadata": {},
   "outputs": [
    {
     "name": "stdout",
     "output_type": "stream",
     "text": [
      "Opened database successfully\n",
      "\n",
      "List of Joined Data:\n",
      "('binaria', 'football')\n",
      "('bintang', 'gaming')\n",
      "('bintang', 'traveling')\n",
      "\n",
      "Operation done successfully\n"
     ]
    }
   ],
   "source": [
    "#join table\n",
    "conn = sqlite3.connect('data/binar_data_science_join_new.db')\n",
    "print(\"Opened database successfully\")\n",
    "print()\n",
    "\n",
    "print(\"List of Joined Data:\")\n",
    "cursor = conn.execute(\"SELECT users.username, hobbies.name \\\n",
    "            FROM users INNER JOIN hobbies ON users.rowid = hobbies.user_id\")\n",
    "for row in cursor:\n",
    "    print(row)\n",
    "\n",
    "print()\n",
    "print(\"Operation done successfully\")\n",
    "conn.close()"
   ]
  },
  {
   "cell_type": "code",
   "execution_count": null,
   "id": "677f32e6-f977-46ec-ba6f-c635504c64cf",
   "metadata": {},
   "outputs": [],
   "source": []
  }
 ],
 "metadata": {
  "kernelspec": {
   "display_name": "Python 3 (ipykernel)",
   "language": "python",
   "name": "python3"
  },
  "language_info": {
   "codemirror_mode": {
    "name": "ipython",
    "version": 3
   },
   "file_extension": ".py",
   "mimetype": "text/x-python",
   "name": "python",
   "nbconvert_exporter": "python",
   "pygments_lexer": "ipython3",
   "version": "3.10.12"
  }
 },
 "nbformat": 4,
 "nbformat_minor": 5
}
